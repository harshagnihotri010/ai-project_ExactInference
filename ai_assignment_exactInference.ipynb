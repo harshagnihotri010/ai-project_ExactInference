{
  "nbformat": 4,
  "nbformat_minor": 0,
  "metadata": {
    "colab": {
      "provenance": [],
      "authorship_tag": "ABX9TyN3/xLKkjz21kLFRou33fUn",
      "include_colab_link": true
    },
    "kernelspec": {
      "name": "python3",
      "display_name": "Python 3"
    },
    "language_info": {
      "name": "python"
    }
  },
  "cells": [
    {
      "cell_type": "markdown",
      "metadata": {
        "id": "view-in-github",
        "colab_type": "text"
      },
      "source": [
        "<a href=\"https://colab.research.google.com/github/harshagnihotri010/ai-project_ExactInference/blob/main/ai_assignment_exactInference.ipynb\" target=\"_parent\"><img src=\"https://colab.research.google.com/assets/colab-badge.svg\" alt=\"Open In Colab\"/></a>"
      ]
    },
    {
      "cell_type": "code",
      "source": [
        "!pip install pgmpy"
      ],
      "metadata": {
        "colab": {
          "base_uri": "https://localhost:8080/"
        },
        "id": "XZZJYtfkvXaN",
        "outputId": "6ba33244-a089-452b-c5a1-2a25bf48adb3"
      },
      "execution_count": null,
      "outputs": [
        {
          "output_type": "stream",
          "name": "stdout",
          "text": [
            "Requirement already satisfied: pgmpy in /usr/local/lib/python3.10/dist-packages (0.1.26)\n",
            "Requirement already satisfied: networkx in /usr/local/lib/python3.10/dist-packages (from pgmpy) (3.4.1)\n",
            "Requirement already satisfied: numpy in /usr/local/lib/python3.10/dist-packages (from pgmpy) (1.26.4)\n",
            "Requirement already satisfied: scipy in /usr/local/lib/python3.10/dist-packages (from pgmpy) (1.13.1)\n",
            "Requirement already satisfied: scikit-learn in /usr/local/lib/python3.10/dist-packages (from pgmpy) (1.5.2)\n",
            "Requirement already satisfied: pandas in /usr/local/lib/python3.10/dist-packages (from pgmpy) (2.2.2)\n",
            "Requirement already satisfied: pyparsing in /usr/local/lib/python3.10/dist-packages (from pgmpy) (3.2.0)\n",
            "Requirement already satisfied: torch in /usr/local/lib/python3.10/dist-packages (from pgmpy) (2.4.1+cu121)\n",
            "Requirement already satisfied: statsmodels in /usr/local/lib/python3.10/dist-packages (from pgmpy) (0.14.4)\n",
            "Requirement already satisfied: tqdm in /usr/local/lib/python3.10/dist-packages (from pgmpy) (4.66.5)\n",
            "Requirement already satisfied: joblib in /usr/local/lib/python3.10/dist-packages (from pgmpy) (1.4.2)\n",
            "Requirement already satisfied: opt-einsum in /usr/local/lib/python3.10/dist-packages (from pgmpy) (3.4.0)\n",
            "Requirement already satisfied: xgboost in /usr/local/lib/python3.10/dist-packages (from pgmpy) (2.1.1)\n",
            "Requirement already satisfied: google-generativeai in /usr/local/lib/python3.10/dist-packages (from pgmpy) (0.8.3)\n",
            "Requirement already satisfied: google-ai-generativelanguage==0.6.10 in /usr/local/lib/python3.10/dist-packages (from google-generativeai->pgmpy) (0.6.10)\n",
            "Requirement already satisfied: google-api-core in /usr/local/lib/python3.10/dist-packages (from google-generativeai->pgmpy) (2.19.2)\n",
            "Requirement already satisfied: google-api-python-client in /usr/local/lib/python3.10/dist-packages (from google-generativeai->pgmpy) (2.137.0)\n",
            "Requirement already satisfied: google-auth>=2.15.0 in /usr/local/lib/python3.10/dist-packages (from google-generativeai->pgmpy) (2.27.0)\n",
            "Requirement already satisfied: protobuf in /usr/local/lib/python3.10/dist-packages (from google-generativeai->pgmpy) (3.20.3)\n",
            "Requirement already satisfied: pydantic in /usr/local/lib/python3.10/dist-packages (from google-generativeai->pgmpy) (2.9.2)\n",
            "Requirement already satisfied: typing-extensions in /usr/local/lib/python3.10/dist-packages (from google-generativeai->pgmpy) (4.12.2)\n",
            "Requirement already satisfied: proto-plus<2.0.0dev,>=1.22.3 in /usr/local/lib/python3.10/dist-packages (from google-ai-generativelanguage==0.6.10->google-generativeai->pgmpy) (1.24.0)\n",
            "Requirement already satisfied: python-dateutil>=2.8.2 in /usr/local/lib/python3.10/dist-packages (from pandas->pgmpy) (2.8.2)\n",
            "Requirement already satisfied: pytz>=2020.1 in /usr/local/lib/python3.10/dist-packages (from pandas->pgmpy) (2024.2)\n",
            "Requirement already satisfied: tzdata>=2022.7 in /usr/local/lib/python3.10/dist-packages (from pandas->pgmpy) (2024.2)\n",
            "Requirement already satisfied: threadpoolctl>=3.1.0 in /usr/local/lib/python3.10/dist-packages (from scikit-learn->pgmpy) (3.5.0)\n",
            "Requirement already satisfied: patsy>=0.5.6 in /usr/local/lib/python3.10/dist-packages (from statsmodels->pgmpy) (0.5.6)\n",
            "Requirement already satisfied: packaging>=21.3 in /usr/local/lib/python3.10/dist-packages (from statsmodels->pgmpy) (24.1)\n",
            "Requirement already satisfied: filelock in /usr/local/lib/python3.10/dist-packages (from torch->pgmpy) (3.16.1)\n",
            "Requirement already satisfied: sympy in /usr/local/lib/python3.10/dist-packages (from torch->pgmpy) (1.13.3)\n",
            "Requirement already satisfied: jinja2 in /usr/local/lib/python3.10/dist-packages (from torch->pgmpy) (3.1.4)\n",
            "Requirement already satisfied: fsspec in /usr/local/lib/python3.10/dist-packages (from torch->pgmpy) (2024.6.1)\n",
            "Requirement already satisfied: nvidia-nccl-cu12 in /usr/local/lib/python3.10/dist-packages (from xgboost->pgmpy) (2.23.4)\n",
            "Requirement already satisfied: googleapis-common-protos<2.0.dev0,>=1.56.2 in /usr/local/lib/python3.10/dist-packages (from google-api-core->google-generativeai->pgmpy) (1.65.0)\n",
            "Requirement already satisfied: requests<3.0.0.dev0,>=2.18.0 in /usr/local/lib/python3.10/dist-packages (from google-api-core->google-generativeai->pgmpy) (2.32.3)\n",
            "Requirement already satisfied: cachetools<6.0,>=2.0.0 in /usr/local/lib/python3.10/dist-packages (from google-auth>=2.15.0->google-generativeai->pgmpy) (5.5.0)\n",
            "Requirement already satisfied: pyasn1-modules>=0.2.1 in /usr/local/lib/python3.10/dist-packages (from google-auth>=2.15.0->google-generativeai->pgmpy) (0.4.1)\n",
            "Requirement already satisfied: rsa<5,>=3.1.4 in /usr/local/lib/python3.10/dist-packages (from google-auth>=2.15.0->google-generativeai->pgmpy) (4.9)\n",
            "Requirement already satisfied: six in /usr/local/lib/python3.10/dist-packages (from patsy>=0.5.6->statsmodels->pgmpy) (1.16.0)\n",
            "Requirement already satisfied: httplib2<1.dev0,>=0.19.0 in /usr/local/lib/python3.10/dist-packages (from google-api-python-client->google-generativeai->pgmpy) (0.22.0)\n",
            "Requirement already satisfied: google-auth-httplib2<1.0.0,>=0.2.0 in /usr/local/lib/python3.10/dist-packages (from google-api-python-client->google-generativeai->pgmpy) (0.2.0)\n",
            "Requirement already satisfied: uritemplate<5,>=3.0.1 in /usr/local/lib/python3.10/dist-packages (from google-api-python-client->google-generativeai->pgmpy) (4.1.1)\n",
            "Requirement already satisfied: MarkupSafe>=2.0 in /usr/local/lib/python3.10/dist-packages (from jinja2->torch->pgmpy) (3.0.1)\n",
            "Requirement already satisfied: annotated-types>=0.6.0 in /usr/local/lib/python3.10/dist-packages (from pydantic->google-generativeai->pgmpy) (0.7.0)\n",
            "Requirement already satisfied: pydantic-core==2.23.4 in /usr/local/lib/python3.10/dist-packages (from pydantic->google-generativeai->pgmpy) (2.23.4)\n",
            "Requirement already satisfied: mpmath<1.4,>=1.1.0 in /usr/local/lib/python3.10/dist-packages (from sympy->torch->pgmpy) (1.3.0)\n",
            "Requirement already satisfied: grpcio<2.0dev,>=1.33.2 in /usr/local/lib/python3.10/dist-packages (from google-api-core[grpc]!=2.0.*,!=2.1.*,!=2.10.*,!=2.2.*,!=2.3.*,!=2.4.*,!=2.5.*,!=2.6.*,!=2.7.*,!=2.8.*,!=2.9.*,<3.0.0dev,>=1.34.1->google-ai-generativelanguage==0.6.10->google-generativeai->pgmpy) (1.64.1)\n",
            "Requirement already satisfied: grpcio-status<2.0.dev0,>=1.33.2 in /usr/local/lib/python3.10/dist-packages (from google-api-core[grpc]!=2.0.*,!=2.1.*,!=2.10.*,!=2.2.*,!=2.3.*,!=2.4.*,!=2.5.*,!=2.6.*,!=2.7.*,!=2.8.*,!=2.9.*,<3.0.0dev,>=1.34.1->google-ai-generativelanguage==0.6.10->google-generativeai->pgmpy) (1.48.2)\n",
            "Requirement already satisfied: pyasn1<0.7.0,>=0.4.6 in /usr/local/lib/python3.10/dist-packages (from pyasn1-modules>=0.2.1->google-auth>=2.15.0->google-generativeai->pgmpy) (0.6.1)\n",
            "Requirement already satisfied: charset-normalizer<4,>=2 in /usr/local/lib/python3.10/dist-packages (from requests<3.0.0.dev0,>=2.18.0->google-api-core->google-generativeai->pgmpy) (3.4.0)\n",
            "Requirement already satisfied: idna<4,>=2.5 in /usr/local/lib/python3.10/dist-packages (from requests<3.0.0.dev0,>=2.18.0->google-api-core->google-generativeai->pgmpy) (3.10)\n",
            "Requirement already satisfied: urllib3<3,>=1.21.1 in /usr/local/lib/python3.10/dist-packages (from requests<3.0.0.dev0,>=2.18.0->google-api-core->google-generativeai->pgmpy) (2.2.3)\n",
            "Requirement already satisfied: certifi>=2017.4.17 in /usr/local/lib/python3.10/dist-packages (from requests<3.0.0.dev0,>=2.18.0->google-api-core->google-generativeai->pgmpy) (2024.8.30)\n"
          ]
        }
      ]
    },
    {
      "cell_type": "code",
      "source": [
        "from pgmpy.models import BayesianNetwork\n",
        "from pgmpy.factors.discrete import TabularCPD\n",
        "from pgmpy.inference import VariableElimination"
      ],
      "metadata": {
        "id": "mz2-GL8cxpj2"
      },
      "execution_count": null,
      "outputs": []
    },
    {
      "cell_type": "markdown",
      "source": [
        "~ pgmpy.models.BayesianNetwork: This imports the BayesianNetwork class from the pgmpy.models module, which is used to create Bayesian networks.\n",
        "\n",
        "~ pgmpy.factors.discrete.TabularCPD: This imports the TabularCPD class from the pgmpy.factors.discrete module, which is used to define conditional probability distributions (CPDs).\n",
        "\n",
        "~ pgmpy.inference.VariableElimination: This imports the VariableElimination class from the pgmpy.inference module, which provides functions for exact inference in Bayesian networks using the variable elimination algorithm."
      ],
      "metadata": {
        "id": "xuVeDtv6CH8q"
      }
    },
    {
      "cell_type": "code",
      "source": [
        "# Create the model\n",
        "model = BayesianNetwork([\n",
        "    ('EngineProblem', 'CarNoise'),\n",
        "    ('TransmissionProblem', 'CarNoise'),\n",
        "    ('ElectricalProblem', 'CarNoise'),\n",
        "    ('BrakeProblem', 'CarNoise')\n",
        "])"
      ],
      "metadata": {
        "id": "Dk7tkOHExsYi"
      },
      "execution_count": null,
      "outputs": []
    },
    {
      "cell_type": "markdown",
      "source": [
        "~ This line creates a Bayesian network with four nodes: EngineProblem, TransmissionProblem, ElectricalProblem, and BrakeProblem. The edges in the network indicate that CarNoise is influenced by all these problems."
      ],
      "metadata": {
        "id": "jRzbIc7zCZNy"
      }
    },
    {
      "cell_type": "code",
      "source": [
        "# Define conditional probability distributions\n",
        "engine_cpd = TabularCPD(variable='EngineProblem', variable_card=2, values=[[0.3], [0.7]])\n",
        "transmission_cpd = TabularCPD(variable='TransmissionProblem', variable_card=2, values=[[0.2], [0.8]])\n",
        "electrical_cpd = TabularCPD(variable='ElectricalProblem', variable_card=2, values=[[0.2], [0.8]])\n",
        "brake_cpd = TabularCPD(variable='BrakeProblem', variable_card=2, values=[[0.3], [0.7]])\n"
      ],
      "metadata": {
        "id": "wtZXLFW5xwiQ"
      },
      "execution_count": null,
      "outputs": []
    },
    {
      "cell_type": "markdown",
      "source": [
        "~ These lines define the prior probabilities for each problem. For example, engine_cpd specifies that the probability of an EngineProblem is 0.3.\n",
        "\n",
        "~ variable: Specifies the name of the variable for which the CPD is being defined.\n",
        "\n",
        "~ variable_card: Indicates the number of possible states or values that the variable can take. In this case, all variables have a variable_card of 2, meaning they can be either 0 (false) or 1 (true).\n",
        "\n",
        "~ values: A list of lists representing the conditional probability table. Each inner list corresponds to a specific state of the variable, and the values within the list represent the probabilities of that state given different combinations of parent variables (in this case, there are no parent variables for these prior probabilities)."
      ],
      "metadata": {
        "id": "fqjebqYFCf8J"
      }
    },
    {
      "cell_type": "code",
      "source": [
        "#values for CarNoise CPD\n",
        "car_noise_cpd = TabularCPD(\n",
        "    variable='CarNoise',\n",
        "    variable_card=2,\n",
        "    values=[\n",
        "        [0.5, 0.3, 0.1, 0.1, 0.3, 0.2, 0.1, 0.05,  # P(CarNoise=0 | Parents)\n",
        "         0.2, 0.1, 0.05, 0.02, 0.6, 0.4, 0.3, 0.1],  # P(CarNoise=1 | Parents)\n",
        "        [0.5, 0.7, 0.9, 0.9, 0.7, 0.8, 0.9, 0.95,  # P(CarNoise=0 | Parents)\n",
        "         0.8, 0.9, 0.95, 0.98, 0.4, 0.6, 0.7, 0.9]   # P(CarNoise=1 | Parents)\n",
        "    ],\n",
        "    evidence=['EngineProblem', 'TransmissionProblem', 'ElectricalProblem', 'BrakeProblem'],\n",
        "    evidence_card=[2, 2, 2, 2]\n",
        ")"
      ],
      "metadata": {
        "id": "uUVV1-EzxzP3"
      },
      "execution_count": null,
      "outputs": []
    },
    {
      "cell_type": "markdown",
      "source": [
        "~ This defines the conditional probabilities of CarNoise given different combinations of the parent variables. The values parameter is a list of lists, where each inner list represents the probabilities of CarNoise being 0 or 1 for a specific combination of parent variables."
      ],
      "metadata": {
        "id": "hT7ykT07DU2n"
      }
    },
    {
      "cell_type": "code",
      "source": [
        "# Add CPDs to the model\n",
        "model.add_cpds(engine_cpd, transmission_cpd, electrical_cpd, brake_cpd, car_noise_cpd)"
      ],
      "metadata": {
        "id": "KDPgWN21x3fN"
      },
      "execution_count": null,
      "outputs": []
    },
    {
      "cell_type": "markdown",
      "source": [
        "~ This adds the defined CPDs to the Bayesian network."
      ],
      "metadata": {
        "id": "ZXXSKhdXDbYa"
      }
    },
    {
      "cell_type": "code",
      "source": [
        "# Check if the model is valid\n",
        "assert model.check_model()\n"
      ],
      "metadata": {
        "id": "B11YnjMMx60A"
      },
      "execution_count": null,
      "outputs": []
    },
    {
      "cell_type": "markdown",
      "source": [
        "~ This checks if the model is valid, ensuring that all variables have CPDs and that there are no cycles in the network."
      ],
      "metadata": {
        "id": "DUjO9t1NDmsA"
      }
    },
    {
      "cell_type": "code",
      "source": [
        "# Perform inference\n",
        "inference = VariableElimination(model)\n",
        "query = inference.query(\n",
        "    variables=['EngineProblem', 'TransmissionProblem', 'ElectricalProblem', 'BrakeProblem'],\n",
        "    evidence={'CarNoise': 1}  # Assuming car noise is present\n",
        ")"
      ],
      "metadata": {
        "id": "3cLffmqQx9S3"
      },
      "execution_count": null,
      "outputs": []
    },
    {
      "cell_type": "markdown",
      "source": [
        "~ This creates an instance of the VariableElimination class to perform inference on the model.\n",
        "\n",
        "~ The query method is used to calculate the posterior probabilities of the specified variables (EngineProblem, TransmissionProblem, ElectricalProblem, BrakeProblem) given the evidence (CarNoise being 1)."
      ],
      "metadata": {
        "id": "_ED4TFIyDs59"
      }
    },
    {
      "cell_type": "code",
      "source": [
        "print(query)"
      ],
      "metadata": {
        "colab": {
          "base_uri": "https://localhost:8080/"
        },
        "id": "8PxVTFscxQT1",
        "outputId": "47bf7e13-b8a2-4470-ed41-200b1521a341"
      },
      "execution_count": null,
      "outputs": [
        {
          "output_type": "stream",
          "name": "stdout",
          "text": [
            "+------------------+------------------------+----------------------+-----------------+-------------------------------------------------------------------------+\n",
            "| EngineProblem    | TransmissionProblem    | ElectricalProblem    | BrakeProblem    |   phi(EngineProblem,TransmissionProblem,ElectricalProblem,BrakeProblem) |\n",
            "+==================+========================+======================+=================+=========================================================================+\n",
            "| EngineProblem(0) | TransmissionProblem(0) | ElectricalProblem(0) | BrakeProblem(0) |                                                                  0.0021 |\n",
            "+------------------+------------------------+----------------------+-----------------+-------------------------------------------------------------------------+\n",
            "| EngineProblem(0) | TransmissionProblem(0) | ElectricalProblem(0) | BrakeProblem(1) |                                                                  0.0070 |\n",
            "+------------------+------------------------+----------------------+-----------------+-------------------------------------------------------------------------+\n",
            "| EngineProblem(0) | TransmissionProblem(0) | ElectricalProblem(1) | BrakeProblem(0) |                                                                  0.0155 |\n",
            "+------------------+------------------------+----------------------+-----------------+-------------------------------------------------------------------------+\n",
            "| EngineProblem(0) | TransmissionProblem(0) | ElectricalProblem(1) | BrakeProblem(1) |                                                                  0.0361 |\n",
            "+------------------+------------------------+----------------------+-----------------+-------------------------------------------------------------------------+\n",
            "| EngineProblem(0) | TransmissionProblem(1) | ElectricalProblem(0) | BrakeProblem(0) |                                                                  0.0120 |\n",
            "+------------------+------------------------+----------------------+-----------------+-------------------------------------------------------------------------+\n",
            "| EngineProblem(0) | TransmissionProblem(1) | ElectricalProblem(0) | BrakeProblem(1) |                                                                  0.0321 |\n",
            "+------------------+------------------------+----------------------+-----------------+-------------------------------------------------------------------------+\n",
            "| EngineProblem(0) | TransmissionProblem(1) | ElectricalProblem(1) | BrakeProblem(0) |                                                                  0.0619 |\n",
            "+------------------+------------------------+----------------------+-----------------+-------------------------------------------------------------------------+\n",
            "| EngineProblem(0) | TransmissionProblem(1) | ElectricalProblem(1) | BrakeProblem(1) |                                                                  0.1525 |\n",
            "+------------------+------------------------+----------------------+-----------------+-------------------------------------------------------------------------+\n",
            "| EngineProblem(1) | TransmissionProblem(0) | ElectricalProblem(0) | BrakeProblem(0) |                                                                  0.0080 |\n",
            "+------------------+------------------------+----------------------+-----------------+-------------------------------------------------------------------------+\n",
            "| EngineProblem(1) | TransmissionProblem(0) | ElectricalProblem(0) | BrakeProblem(1) |                                                                  0.0211 |\n",
            "+------------------+------------------------+----------------------+-----------------+-------------------------------------------------------------------------+\n",
            "| EngineProblem(1) | TransmissionProblem(0) | ElectricalProblem(1) | BrakeProblem(0) |                                                                  0.0381 |\n",
            "+------------------+------------------------+----------------------+-----------------+-------------------------------------------------------------------------+\n",
            "| EngineProblem(1) | TransmissionProblem(0) | ElectricalProblem(1) | BrakeProblem(1) |                                                                  0.0918 |\n",
            "+------------------+------------------------+----------------------+-----------------+-------------------------------------------------------------------------+\n",
            "| EngineProblem(1) | TransmissionProblem(1) | ElectricalProblem(0) | BrakeProblem(0) |                                                                  0.0161 |\n",
            "+------------------+------------------------+----------------------+-----------------+-------------------------------------------------------------------------+\n",
            "| EngineProblem(1) | TransmissionProblem(1) | ElectricalProblem(0) | BrakeProblem(1) |                                                                  0.0562 |\n",
            "+------------------+------------------------+----------------------+-----------------+-------------------------------------------------------------------------+\n",
            "| EngineProblem(1) | TransmissionProblem(1) | ElectricalProblem(1) | BrakeProblem(0) |                                                                  0.1124 |\n",
            "+------------------+------------------------+----------------------+-----------------+-------------------------------------------------------------------------+\n",
            "| EngineProblem(1) | TransmissionProblem(1) | ElectricalProblem(1) | BrakeProblem(1) |                                                                  0.3371 |\n",
            "+------------------+------------------------+----------------------+-----------------+-------------------------------------------------------------------------+\n"
          ]
        }
      ]
    }
  ]
}